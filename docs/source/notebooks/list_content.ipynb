{
 "cells": [
  {
   "cell_type": "markdown",
   "metadata": {},
   "source": [
    "Explore the package\n",
    "=================\n",
    "\n",
    "Go back to the [list of notebooks](../simple_usage.rst)\n",
    "\n",
    "snowScatt is a modular package. The most important module is its internal database called snowLibrary that holds the informations about the snowflake shapes. snowScatt uses heavily inline docstrings as official documentation.\n",
    "\n",
    "First, let's import the package and call the help() function to see if snowScatt is installed correctly"
   ]
  },
  {
   "cell_type": "code",
   "execution_count": 3,
   "metadata": {},
   "outputs": [
    {
     "name": "stdout",
     "output_type": "stream",
     "text": [
      "This is the snwoScatt module. \n",
      " snowScatt loads the following modules and functions \n",
      "\n",
      " calcProperties, backscatter, backscatVel and snowMassVelocityArea are functions defined in the _compute submodule. Print their respective docstrings for further informations or navigate the online documentation \n",
      "\n",
      " snowLibrary is the main object loaded by the module \n",
      " to print a list of the available snow particle properties execute \n",
      "\n",
      " snowScatt.snowLibrary.info() \n",
      "\n"
     ]
    }
   ],
   "source": [
    "import snowScatt\n",
    "snowScatt.help()"
   ]
  },
  {
   "cell_type": "markdown",
   "metadata": {},
   "source": [
    "A basic description of the package should have appeared.\n",
    "\n",
    "Next let's call the snowScatt.snowLibrary.info() function to get a list of the snowLibrary content."
   ]
  },
  {
   "cell_type": "code",
   "execution_count": 5,
   "metadata": {},
   "outputs": [
    {
     "name": "stdout",
     "output_type": "stream",
     "text": [
      "print the information content in the database\n",
      "\n",
      "##  List of tabulated size resolved properties\n",
      "\n",
      "Name:  Leinonen15tabA00\n",
      "Table of Leinonen unrimed snowflakes\n",
      "Filepath : /home/dori/.local/lib/python3.8/site-packages/snowScatt/snowProperties/ssrga_coeffs_simultaneous_0.0.csv\n",
      "\n",
      "Name:  Leinonen15tabB00\n",
      "Table of Leinonen unrimed snowflakes\n",
      "Filepath : /home/dori/.local/lib/python3.8/site-packages/snowScatt/snowProperties/ssrga_coeffs_simultaneous_0.0.csv\n",
      "\n",
      "Name:  Leinonen15tabA01\n",
      "Table of Leinonen rimed snowflakes ELWP=0.1 model A simultaneous\n",
      "Filepath : /home/dori/.local/lib/python3.8/site-packages/snowScatt/snowProperties/ssrga_coeffs_simultaneous_0.1.csv\n",
      "\n",
      "Name:  Leinonen15tabA02\n",
      "Table of Leinonen rimed snowflakes ELWP=0.2 model A simultaneous\n",
      "Filepath : /home/dori/.local/lib/python3.8/site-packages/snowScatt/snowProperties/ssrga_coeffs_simultaneous_0.2.csv\n",
      "\n",
      "Name:  Leinonen15tabA05\n",
      "Table of Leinonen rimed snowflakes ELWP=0.5 model A simultaneous\n",
      "Filepath : /home/dori/.local/lib/python3.8/site-packages/snowScatt/snowProperties/ssrga_coeffs_simultaneous_0.5.csv\n",
      "\n",
      "Name:  Leinonen15tabA10\n",
      "Table of Leinonen rimed snowflakes ELWP=1.0 model A simultaneous\n",
      "Filepath : /home/dori/.local/lib/python3.8/site-packages/snowScatt/snowProperties/ssrga_coeffs_simultaneous_1.0.csv\n",
      "\n",
      "Name:  Leinonen15tabA20\n",
      "Table of Leinonen rimed snowflakes ELWP=2.0 model A simultaneous\n",
      "Filepath : /home/dori/.local/lib/python3.8/site-packages/snowScatt/snowProperties/ssrga_coeffs_simultaneous_2.0.csv\n",
      "\n",
      "Name:  Leinonen15tabB01\n",
      "Table of Leinonen rimed snowflakes ELWP=0.1 model B subsequent\n",
      "Filepath : /home/dori/.local/lib/python3.8/site-packages/snowScatt/snowProperties/ssrga_coeffs_subsequent_0.1.csv\n",
      "\n",
      "Name:  Leinonen15tabB02\n",
      "Table of Leinonen rimed snowflakes ELWP=0.2 model B subsequent\n",
      "Filepath : /home/dori/.local/lib/python3.8/site-packages/snowScatt/snowProperties/ssrga_coeffs_subsequent_0.2.csv\n",
      "\n",
      "Name:  Leinonen15tabB05\n",
      "Table of Leinonen rimed snowflakes ELWP=0.5 model B subsequent\n",
      "Filepath : /home/dori/.local/lib/python3.8/site-packages/snowScatt/snowProperties/ssrga_coeffs_subsequent_0.5.csv\n",
      "\n",
      "Name:  Leinonen15tabB10\n",
      "Table of Leinonen rimed snowflakes ELWP=1.0 model B subsequent\n",
      "Filepath : /home/dori/.local/lib/python3.8/site-packages/snowScatt/snowProperties/ssrga_coeffs_subsequent_1.0.csv\n",
      "\n",
      "Name:  Leinonen15tabB20\n",
      "Table of Leinonen rimed snowflakes ELWP=2.0 model B subsequent\n",
      "Filepath : /home/dori/.local/lib/python3.8/site-packages/snowScatt/snowProperties/ssrga_coeffs_subsequent_2.0.csv\n",
      "\n",
      "Name:  Leinonen15tabC\n",
      "Table of Leinonen rime only graupel\n",
      "Filepath : /home/dori/.local/lib/python3.8/site-packages/snowScatt/snowProperties/ssrga_coeffs_rimec.csv\n",
      "\n",
      "Name:  vonTerzi_dendrite\n",
      "Table of von Terzi assemblages of dendrites\n",
      "Filepath : /home/dori/.local/lib/python3.8/site-packages/snowScatt/snowProperties/ssrga_coeffs_dendrite.csv\n",
      "\n",
      "Name:  vonTerzi_column\n",
      "Table of von Terzi assemblages of columns\n",
      "Filepath : /home/dori/.local/lib/python3.8/site-packages/snowScatt/snowProperties/ssrga_coeffs_column.csv\n",
      "\n",
      "Name:  vonTerzi_plate\n",
      "Table of von Terzi assemblages of plates\n",
      "Filepath : /home/dori/.local/lib/python3.8/site-packages/snowScatt/snowProperties/ssrga_coeffs_plate.csv\n",
      "\n",
      "Name:  vonTerzi_needle\n",
      "Table of von Terzi assemblages of needles\n",
      "Filepath : /home/dori/.local/lib/python3.8/site-packages/snowScatt/snowProperties/ssrga_coeffs_needle.csv\n",
      "\n",
      "Name:  vonTerzi_mixcoldend\n",
      "Table of von Terzi assemblages of mixtures of columns and dendrites\n",
      "Filepath : /home/dori/.local/lib/python3.8/site-packages/snowScatt/snowProperties/ssrga_coeffs_mixcolumndend.csv\n",
      "\n",
      "Name:  vonTerzi_mixcoldend_rimed01\n",
      "Table of von Terzi assemblages of mixtures of columns and dendrites with rimeelwp 0.1\n",
      "Filepath : /home/dori/.local/lib/python3.8/site-packages/snowScatt/snowProperties/ssrga_coeffs_mixcolumndend_rimed_0.1.csv\n",
      "\n",
      "Name:  vonTerzi_mixcoldend_rimed02\n",
      "Table of von Terzi assemblages of mixtures of columns and dendrites with rimeelwp 0.2\n",
      "Filepath : /home/dori/.local/lib/python3.8/site-packages/snowScatt/snowProperties/ssrga_coeffs_mixcolumndend_rimed_0.2.csv\n",
      "\n",
      "Name:  vonTerzi_mixcoldend_rimed03\n",
      "Table of von Terzi assemblages of mixtures of columns and dendrites with rimeelwp 0.3\n",
      "Filepath : /home/dori/.local/lib/python3.8/site-packages/snowScatt/snowProperties/ssrga_coeffs_mixcolumndend_rimed_0.3.csv\n",
      "\n",
      "Name:  vonTerzi_mixcoldend_rimed04\n",
      "Table of von Terzi assemblages of mixtures of columns and dendrites with rimeelwp 0.4\n",
      "Filepath : /home/dori/.local/lib/python3.8/site-packages/snowScatt/snowProperties/ssrga_coeffs_mixcolumndend_rimed_0.4.csv\n",
      "\n",
      "Name:  vonTerzi_mixcoldend_rimed05\n",
      "Table of von Terzi assemblages of mixtures of columns and dendrites with rimeelwp 0.5\n",
      "Filepath : /home/dori/.local/lib/python3.8/site-packages/snowScatt/snowProperties/ssrga_coeffs_mixcolumndend_rimed_0.5.csv\n",
      "\n",
      "Name:  vonTerzi_mixcoldend_rimed06\n",
      "Table of von Terzi assemblages of mixtures of columns and dendrites with rimeelwp 0.6\n",
      "Filepath : /home/dori/.local/lib/python3.8/site-packages/snowScatt/snowProperties/ssrga_coeffs_mixcolumndend_rimed_0.6.csv\n",
      "\n",
      "Name:  vonTerzi_mixcoldend_rimed07\n",
      "Table of von Terzi assemblages of mixtures of columns and dendrites with rimeelwp 0.7\n",
      "Filepath : /home/dori/.local/lib/python3.8/site-packages/snowScatt/snowProperties/ssrga_coeffs_mixcolumndend_rimed_0.7.csv\n",
      "\n",
      "Name:  vonTerzi_mixcoldend_rimed08\n",
      "Table of von Terzi assemblages of mixtures of columns and dendrites with rimeelwp 0.8\n",
      "Filepath : /home/dori/.local/lib/python3.8/site-packages/snowScatt/snowProperties/ssrga_coeffs_mixcolumndend_rimed_0.8.csv\n",
      "\n",
      "Name:  vonTerzi_mixcoldend_rimed09\n",
      "Table of von Terzi assemblages of mixtures of columns and dendrites with rimeelwp 0.9\n",
      "Filepath : /home/dori/.local/lib/python3.8/site-packages/snowScatt/snowProperties/ssrga_coeffs_mixcolumndend_rimed_0.9.csv\n",
      "\n",
      "Name:  vonTerzi_mixcoldend_rimed10\n",
      "Table of von Terzi assemblages of mixtures of columns and dendrites with rimeelwp 1.0\n",
      "Filepath : /home/dori/.local/lib/python3.8/site-packages/snowScatt/snowProperties/ssrga_coeffs_mixcolumndend_rimed_1.0.csv\n",
      "\n",
      "Name:  Ori_collColumns\n",
      "Table of Davide Ori aggregates of collection of columns\n",
      "Filepath : /home/dori/.local/lib/python3.8/site-packages/snowScatt/snowProperties/ssrga_coeffs_Ori_collection_columns.csv\n",
      "\n",
      "\n",
      "\n",
      "######################################\n",
      "This is the content of tables sections of the database\n",
      "You can pass the argument section=[\"all\", \"avg\", \"tables\"] to restrict the output to a certain section\n"
     ]
    }
   ],
   "source": [
    "snowScatt.snowLibrary.info()"
   ]
  },
  {
   "cell_type": "markdown",
   "metadata": {},
   "source": [
    "The tables listed are all available in the snowScatt package. The \"name\" property is the label required to call tell snowScatt which particle type you wish to use. The property path lists on your machine the location of the text file that stores the snowTable properties.\n",
    "Go back to the [list of notebooks](../simple_usage.rst) to see how to use the package for some snow studies."
   ]
  },
  {
   "cell_type": "code",
   "execution_count": null,
   "metadata": {},
   "outputs": [],
   "source": []
  }
 ],
 "metadata": {
  "kernelspec": {
   "display_name": "Python 3",
   "language": "python",
   "name": "python3"
  },
  "language_info": {
   "codemirror_mode": {
    "name": "ipython",
    "version": 3
   },
   "file_extension": ".py",
   "mimetype": "text/x-python",
   "name": "python",
   "nbconvert_exporter": "python",
   "pygments_lexer": "ipython3",
   "version": "3.8.5"
  }
 },
 "nbformat": 4,
 "nbformat_minor": 4
}
